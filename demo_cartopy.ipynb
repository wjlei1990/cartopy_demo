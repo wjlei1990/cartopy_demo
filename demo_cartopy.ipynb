{
 "cells": [
  {
   "cell_type": "markdown",
   "metadata": {
    "slideshow": {
     "slide_type": "slide"
    }
   },
   "source": [
    "# Cartopy Demo In JupyterLab\n",
    "## Uno Brosten Vaaland"
   ]
  },
  {
   "cell_type": "markdown",
   "metadata": {
    "slideshow": {
     "slide_type": "slide"
    }
   },
   "source": [
    "## JupyterLab, Not JupyterNotebook\n",
    "\n",
    "![jupyterlab_announcement](Fig/jupyterlab_announcement.png)"
   ]
  },
  {
   "cell_type": "markdown",
   "metadata": {
    "slideshow": {
     "slide_type": "subslide"
    }
   },
   "source": [
    "## JupyterLab\n",
    "\n",
    "> An extensible environment for interactive and reproducible computing, based on the Jupyter Notebook and Architecture.\n",
    "\n",
    "> JupyterLab is the next-generation user interface for Project Jupyter. It offers all the familiar building blocks of the > classic Jupyter Notebook (notebook, terminal, text editor, file browser, rich outputs, etc.) in a flexible and powerful > user inteface that can be extended through third party extensions. Eventually, JupyterLab will replace the classic > Jupyter Notebook after JupyterLab reaches 1.0."
   ]
  },
  {
   "cell_type": "markdown",
   "metadata": {
    "slideshow": {
     "slide_type": "subslide"
    }
   },
   "source": [
    "## JupyterLab\n",
    "\n",
    "![jupyterlayout](Fig/jupyter_layout.png)"
   ]
  },
  {
   "cell_type": "markdown",
   "metadata": {
    "slideshow": {
     "slide_type": "slide"
    }
   },
   "source": [
    "## Cartopy: A library providing cartographic tools for python\n",
    "\n",
    "![cartopy_logo](http://scitools.org.uk/cartopy/docs/latest/_images/sphx_glr_logo_001.png)"
   ]
  },
  {
   "cell_type": "code",
   "execution_count": 1,
   "metadata": {
    "slideshow": {
     "slide_type": "skip"
    }
   },
   "outputs": [],
   "source": [
    "# Suppress plots\n",
    "import matplotlib\n",
    "matplotlib.use('Agg')"
   ]
  },
  {
   "cell_type": "markdown",
   "metadata": {
    "slideshow": {
     "slide_type": "slide"
    }
   },
   "source": [
    "## Point of Departure"
   ]
  },
  {
   "cell_type": "code",
   "execution_count": 2,
   "metadata": {
    "slideshow": {
     "slide_type": "-"
    }
   },
   "outputs": [],
   "source": [
    "import matplotlib.pyplot as plt\n",
    "import cartopy.crs as ccrs"
   ]
  },
  {
   "cell_type": "code",
   "execution_count": 3,
   "metadata": {
    "slideshow": {
     "slide_type": "subslide"
    }
   },
   "outputs": [],
   "source": [
    "def main():\n",
    "    fig = plt.figure(figsize=(18, 16))\n",
    "    ax = fig.add_subplot(1, 1, 1, projection=ccrs.PlateCarree())\n",
    "    \n",
    "    # Select global extent\n",
    "    ax.set_global()\n",
    "    \n",
    "    # Add default background image and coastlines\n",
    "    ax.stock_img()\n",
    "    ax.coastlines()\n",
    "\n",
    "    \n",
    "if __name__ == '__main__':\n",
    "    main()"
   ]
  },
  {
   "cell_type": "markdown",
   "metadata": {
    "slideshow": {
     "slide_type": "subslide"
    }
   },
   "source": [
    "![](Fig/first_look.png)"
   ]
  },
  {
   "cell_type": "markdown",
   "metadata": {
    "slideshow": {
     "slide_type": "slide"
    }
   },
   "source": [
    "## Using Features: Land, Ocean, Coastlines"
   ]
  },
  {
   "cell_type": "code",
   "execution_count": 4,
   "metadata": {
    "slideshow": {
     "slide_type": "-"
    }
   },
   "outputs": [],
   "source": [
    "import cartopy.feature as cfeature\n",
    "\n",
    "def main():\n",
    "    fig = plt.figure(figsize=(18, 16))\n",
    "    ax = fig.add_subplot(1, 1, 1, projection=ccrs.PlateCarree())\n",
    "    \n",
    "    # Select North America\n",
    "    ax.set_extent([-130, -65, 25, 55], crs=ccrs.PlateCarree())\n",
    "    \n",
    "    # Add features to map\n",
    "    ax.add_feature(cfeature.LAND)\n",
    "    ax.add_feature(cfeature.OCEAN)\n",
    "    ax.add_feature(cfeature.COASTLINE)\n",
    "    \n",
    "\n",
    "if __name__ == '__main__':\n",
    "    main()"
   ]
  },
  {
   "cell_type": "markdown",
   "metadata": {
    "slideshow": {
     "slide_type": "subslide"
    }
   },
   "source": [
    "![](Fig/na_plain.png)"
   ]
  },
  {
   "cell_type": "markdown",
   "metadata": {
    "slideshow": {
     "slide_type": "subslide"
    }
   },
   "source": [
    "## Using Features: Lakes and Rivers"
   ]
  },
  {
   "cell_type": "code",
   "execution_count": 5,
   "metadata": {
    "slideshow": {
     "slide_type": "-"
    }
   },
   "outputs": [],
   "source": [
    "import cartopy.feature as cfeature\n",
    "\n",
    "def main():\n",
    "    fig = plt.figure(figsize=(18, 16))\n",
    "    ax = fig.add_subplot(1, 1, 1, projection=ccrs.PlateCarree())\n",
    "    \n",
    "    # Select North America\n",
    "    ax.set_extent([-130, -65, 25, 55], crs=ccrs.PlateCarree())\n",
    "    \n",
    "    # Add features to map\n",
    "    ax.add_feature(cfeature.LAND)\n",
    "    ax.add_feature(cfeature.OCEAN)\n",
    "    ax.add_feature(cfeature.COASTLINE)\n",
    "    \n",
    "    ax.add_feature(cfeature.LAKES, alpha=0.5)\n",
    "    ax.add_feature(cfeature.RIVERS)\n",
    "\n",
    "\n",
    "if __name__ == '__main__':\n",
    "    main()"
   ]
  },
  {
   "cell_type": "markdown",
   "metadata": {
    "slideshow": {
     "slide_type": "subslide"
    }
   },
   "source": [
    "![](Fig/na_lakes.png)"
   ]
  },
  {
   "cell_type": "markdown",
   "metadata": {
    "slideshow": {
     "slide_type": "subslide"
    }
   },
   "source": [
    "## Using Features: Borders and States"
   ]
  },
  {
   "cell_type": "code",
   "execution_count": 6,
   "metadata": {
    "slideshow": {
     "slide_type": "-"
    }
   },
   "outputs": [],
   "source": [
    "import cartopy.feature as cfeature\n",
    "\n",
    "def main():\n",
    "    fig = plt.figure(figsize=(18, 16))\n",
    "    ax = fig.add_subplot(1, 1, 1, projection=ccrs.PlateCarree())\n",
    "    \n",
    "    # Select North America\n",
    "    ax.set_extent([-130, -65, 25, 55], crs=ccrs.PlateCarree())\n",
    "    \n",
    "    # Add features to map\n",
    "    ax.add_feature(cfeature.LAND)\n",
    "    ax.add_feature(cfeature.OCEAN)\n",
    "    ax.add_feature(cfeature.COASTLINE)\n",
    "    \n",
    "    ax.add_feature(cfeature.LAKES, alpha=0.5)\n",
    "    ax.add_feature(cfeature.RIVERS)\n",
    "    \n",
    "    ax.add_feature(cfeature.BORDERS)\n",
    "    ax.add_feature(cfeature.STATES, linestyle=':')\n",
    "\n",
    "\n",
    "if __name__ == '__main__':\n",
    "    main()"
   ]
  },
  {
   "cell_type": "markdown",
   "metadata": {
    "slideshow": {
     "slide_type": "subslide"
    }
   },
   "source": [
    "![](Fig/na_borders.png)"
   ]
  },
  {
   "cell_type": "markdown",
   "metadata": {
    "slideshow": {
     "slide_type": "subslide"
    }
   },
   "source": [
    "## Add Custom Feature From Natural Earth"
   ]
  },
  {
   "cell_type": "markdown",
   "metadata": {
    "slideshow": {
     "slide_type": "subslide"
    }
   },
   "source": [
    "![](Fig/na_lakes.png)"
   ]
  },
  {
   "cell_type": "markdown",
   "metadata": {
    "slideshow": {
     "slide_type": "subslide"
    }
   },
   "source": [
    "## Add Custom Feature From Natural Earth"
   ]
  },
  {
   "cell_type": "code",
   "execution_count": 7,
   "metadata": {
    "slideshow": {
     "slide_type": "-"
    }
   },
   "outputs": [],
   "source": [
    "import cartopy.feature as cfeature\n",
    "\n",
    "def main():\n",
    "    fig = plt.figure(figsize=(18, 16))\n",
    "    ax = fig.add_subplot(1, 1, 1, projection=ccrs.PlateCarree())\n",
    "    \n",
    "    # Select North America\n",
    "    ax.set_extent([-130, -65, 25, 55], crs=ccrs.PlateCarree())\n",
    "    \n",
    "    # Create custom features from Natural Earth\n",
    "    lakes_50m = cfeature.NaturalEarthFeature(\n",
    "        category='physical',\n",
    "        name='lakes',\n",
    "        scale='50m',\n",
    "        facecolor=cfeature.COLORS['water'])\n",
    "    \n",
    "    # Add features to map\n",
    "    ax.add_feature(cfeature.LAND)\n",
    "    ax.add_feature(cfeature.OCEAN)\n",
    "    ax.add_feature(cfeature.COASTLINE)\n",
    "    \n",
    "    ax.add_feature(lakes_50m)\n",
    "    \n",
    "\n",
    "if __name__ == '__main__':\n",
    "    main()"
   ]
  },
  {
   "cell_type": "markdown",
   "metadata": {
    "slideshow": {
     "slide_type": "subslide"
    }
   },
   "source": [
    "![](Fig/na_custom.png)"
   ]
  },
  {
   "cell_type": "markdown",
   "metadata": {
    "slideshow": {
     "slide_type": "slide"
    }
   },
   "source": [
    "## Using BlueMarble: Low Resolution"
   ]
  },
  {
   "cell_type": "code",
   "execution_count": 8,
   "metadata": {
    "slideshow": {
     "slide_type": "-"
    }
   },
   "outputs": [],
   "source": [
    "import os\n",
    "\n",
    "# Add path to where BlueMarble image is downloaded\n",
    "os.environ[\"CARTOPY_USER_BACKGROUNDS\"] = \"/Users/brosten/scratch/python/cartopy/blue_marble\"\n",
    "\n",
    "def main():\n",
    "    fig = plt.figure(figsize=(18, 16))\n",
    "    ax = fig.add_subplot(1, 1, 1, projection=ccrs.PlateCarree())\n",
    "    \n",
    "    # Select global extent\n",
    "    ax.set_global()\n",
    "    \n",
    "    # Choose downloaded background image\n",
    "    ax.background_img(name='BM', resolution='low')\n",
    "    \n",
    "    \n",
    "if __name__ == '__main__':\n",
    "    main()"
   ]
  },
  {
   "cell_type": "markdown",
   "metadata": {
    "slideshow": {
     "slide_type": "subslide"
    }
   },
   "source": [
    "![](Fig/blue_marble_low.png)"
   ]
  },
  {
   "cell_type": "markdown",
   "metadata": {
    "slideshow": {
     "slide_type": "subslide"
    }
   },
   "source": [
    "## Using BlueMarble: High Resolution"
   ]
  },
  {
   "cell_type": "code",
   "execution_count": 9,
   "metadata": {
    "slideshow": {
     "slide_type": "-"
    }
   },
   "outputs": [],
   "source": [
    "import os\n",
    "\n",
    "# Add path to where BlueMarble image is downloaded\n",
    "os.environ[\"CARTOPY_USER_BACKGROUNDS\"] = \"/Users/brosten/scratch/python/cartopy/blue_marble\"\n",
    "\n",
    "def main():\n",
    "    fig = plt.figure(figsize=(18, 16))\n",
    "    ax = fig.add_subplot(1, 1, 1, projection=ccrs.PlateCarree())\n",
    "    \n",
    "    # Select global extent\n",
    "    ax.set_global()\n",
    "    \n",
    "    # Choose downloaded background image\n",
    "    ax.background_img(name='BM', resolution='high')\n",
    "    \n",
    "if __name__ == '__main__':\n",
    "    main()"
   ]
  },
  {
   "cell_type": "markdown",
   "metadata": {
    "slideshow": {
     "slide_type": "subslide"
    }
   },
   "source": [
    "![](Fig/blue_marble_high.png)"
   ]
  },
  {
   "cell_type": "markdown",
   "metadata": {
    "slideshow": {
     "slide_type": "subslide"
    }
   },
   "source": [
    "## Using BlueMarble\n",
    "\n",
    "* Download images from: https://neo.sci.gsfc.nasa.gov/view.php?datasetId=BlueMarbleNG-TB.\n",
    "* Add the following JSON file to the image folder as *images.json*.\n",
    "\n",
    "### images.json:\n",
    "```json\n",
    "    {\"__comment__\": \"JSON file specifying the image to use for a given type/name and resolution. Read in by cartopy.mpl.geoaxes.read_user_background_images.\",\n",
    "      \"BM\": {\n",
    "        \"__comment__\": \"Blue Marble Next Generation, July \",\n",
    "        \"__source__\": \"https://neo.sci.gsfc.nasa.gov/view.php?datasetId=BlueMarbleNG-TB\",\n",
    "        \"__projection__\": \"PlateCarree\",\n",
    "        \"low\": \"bm_low.jpg\",\n",
    "        \"high\": \"bm_high.jpg\"}\n",
    "    }\n",
    "```"
   ]
  },
  {
   "cell_type": "markdown",
   "metadata": {
    "slideshow": {
     "slide_type": "subslide"
    }
   },
   "source": [
    "## Using BlueMarble: Sub-Region"
   ]
  },
  {
   "cell_type": "code",
   "execution_count": 10,
   "metadata": {
    "slideshow": {
     "slide_type": "-"
    }
   },
   "outputs": [],
   "source": [
    "import os\n",
    "\n",
    "# Add path to where BlueMarble image is downloaded\n",
    "os.environ[\"CARTOPY_USER_BACKGROUNDS\"] = \"/Users/brosten/scratch/python/cartopy/blue_marble\"\n",
    "\n",
    "def main():\n",
    "    fig = plt.figure(figsize=(18, 16))\n",
    "    ax = fig.add_subplot(1, 1, 1, projection=ccrs.PlateCarree())\n",
    "    \n",
    "    # Select California\n",
    "    ax.set_extent([-122, -115, 32, 37], crs=ccrs.PlateCarree())\n",
    "    \n",
    "    # Choose downloaded background image\n",
    "    ax.background_img(name='BM', resolution='high')\n",
    "    \n",
    "    \n",
    "if __name__ == '__main__':\n",
    "    main()"
   ]
  },
  {
   "cell_type": "markdown",
   "metadata": {
    "slideshow": {
     "slide_type": "subslide"
    }
   },
   "source": [
    "![](Fig/blue_marble_cal.png)"
   ]
  },
  {
   "cell_type": "markdown",
   "metadata": {
    "slideshow": {
     "slide_type": "slide"
    }
   },
   "source": [
    "## Using ArcGIS For High-Resolution Images\n",
    "\n",
    "* Data available at: https://server.arcgisonline.com/arcgis/rest/services\n",
    "* Following services are available:\n",
    "  * World_Physical_Map\n",
    "  * World_Shaded_Relief\n",
    "  * World_Topo_Map\n",
    "  * NatGeo_World_Map\n",
    "  * World_Street_Map\n",
    "  * World_Imagery\n",
    "  * Ocean_Basemap\n",
    "  * World_Terrain_Base\n",
    "  * USA_Topo_Maps\n",
    "  * NGS_Topo_US_2D\n",
    "  * ESRI_Imagery_World_2D\n",
    "  * ESRI_StreetMap_World_2D"
   ]
  },
  {
   "cell_type": "markdown",
   "metadata": {
    "slideshow": {
     "slide_type": "subslide"
    }
   },
   "source": [
    "## Using ArcGIS For High-Resolution Images"
   ]
  },
  {
   "cell_type": "code",
   "execution_count": 11,
   "metadata": {
    "slideshow": {
     "slide_type": "-"
    }
   },
   "outputs": [],
   "source": [
    "from cartopy_custom import ArcgisImage\n",
    "\n",
    "def main():\n",
    "    fig = plt.figure(figsize=(18, 16))\n",
    "    ax = fig.add_subplot(1, 1, 1, projection=ccrs.PlateCarree())\n",
    "    \n",
    "    # Select California\n",
    "    ax.set_extent([-122, -115, 32, 37], crs=ccrs.PlateCarree())\n",
    "    \n",
    "    # Choose high-resolution image from ArcGIS.\n",
    "    ax.add_image(ArcgisImage('World_Imagery'), 8)\n",
    "\n",
    "    \n",
    "if __name__ == '__main__':\n",
    "    main()"
   ]
  },
  {
   "cell_type": "markdown",
   "metadata": {
    "slideshow": {
     "slide_type": "subslide"
    }
   },
   "source": [
    "![](Fig/arcgis_wi.png)"
   ]
  },
  {
   "cell_type": "markdown",
   "metadata": {
    "slideshow": {
     "slide_type": "subslide"
    }
   },
   "source": [
    "## Using ArcGIS For High-Resolution Images"
   ]
  },
  {
   "cell_type": "code",
   "execution_count": 12,
   "metadata": {
    "slideshow": {
     "slide_type": "-"
    }
   },
   "outputs": [],
   "source": [
    "from cartopy_custom import ArcgisImage\n",
    "\n",
    "def main():\n",
    "    fig = plt.figure(figsize=(18, 16))\n",
    "    ax = fig.add_subplot(1, 1, 1, projection=ccrs.PlateCarree())\n",
    "    \n",
    "    # Select Princeton\n",
    "    ax.set_extent([-74.652, -74.656, 40.345, 40.347], crs=ccrs.PlateCarree())\n",
    "    \n",
    "    # Choose high-resolution image from ArcGIS.\n",
    "    ax.add_image(ArcgisImage('World_Imagery'), 19)\n",
    "    \n",
    "    \n",
    "if __name__ == '__main__':\n",
    "    main()"
   ]
  },
  {
   "cell_type": "markdown",
   "metadata": {
    "slideshow": {
     "slide_type": "subslide"
    }
   },
   "source": [
    "![](Fig/arcgis_princeton.png)"
   ]
  },
  {
   "cell_type": "markdown",
   "metadata": {
    "slideshow": {
     "slide_type": "subslide"
    }
   },
   "source": [
    "## cartopy_custom.py\n",
    "\n",
    "\n",
    "```python\n",
    "    from cartopy.io.img_tiles import GoogleTiles\n",
    "\n",
    "\n",
    "    class ArcgisImage(GoogleTiles):\n",
    "\n",
    "        def __init__(self, arcgis_service):\n",
    "            GoogleTiles.__init__(self)\n",
    "            self.arcgis_service = arcgis_service\n",
    "\n",
    "        def _image_url(self, tile):\n",
    "            x, y, z = tile\n",
    "            url = ('https://server.arcgisonline.com/ArcGIS/rest/services/' \\\n",
    "                   '{service}/MapServer/tile/{z}/{y}/{x}.jpg')\n",
    "            return url.format(service=self.arcgis_service, z=z, y=y, x=x)\n",
    "```"
   ]
  }
 ],
 "metadata": {
  "kernelspec": {
   "display_name": "Python [conda root]",
   "language": "python",
   "name": "conda-root-py"
  },
  "language_info": {
   "codemirror_mode": {
    "name": "ipython",
    "version": 3
   },
   "file_extension": ".py",
   "mimetype": "text/x-python",
   "name": "python",
   "nbconvert_exporter": "python",
   "pygments_lexer": "ipython3",
   "version": "3.6.3"
  }
 },
 "nbformat": 4,
 "nbformat_minor": 2
}
